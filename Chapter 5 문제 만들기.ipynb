{
 "cells": [
  {
   "cell_type": "markdown",
   "id": "d256647e",
   "metadata": {},
   "source": [
    "# Chapter 5 문제 만들기"
   ]
  },
  {
   "cell_type": "markdown",
   "id": "2eef31b5",
   "metadata": {},
   "source": [
    "### 김준석의 국어, 영어, 수학 과목의 중간고사 기말고사 점수를 입력받아 평균을 구하고,\n",
    "### 평균을 통해 등급을 나누어라. (점수는 리스트로 받고, A+는 95점 이상, A는 90점 이상...)"
   ]
  },
  {
   "cell_type": "code",
   "execution_count": 12,
   "id": "b8d4b05f",
   "metadata": {},
   "outputs": [
    {
     "name": "stdout",
     "output_type": "stream",
     "text": [
      "국어 점수를 입력하시오.(중간고사, 기말고사 순서로 입력할 것): 80 77\n",
      "영어 점수를 입력하시오.(중간고사, 기말고사 순서로 입력할 것): 50 60\n",
      "수학 점수를 입력하시오.(중간고사, 기말고사 순서로 입력할 것): 90 100\n",
      "\n",
      "국어 평균: 78.50점\n",
      "영어 평균: 55.00점\n",
      "수학 평균: 95.00점\n",
      "\n",
      "국어 등급은 C+입니다.\n",
      "\n",
      "영어 등급은 F입니다.\n",
      "재수강 하십시오.\n",
      "\n",
      "수학 등급은 A+입니다.\n",
      "\n"
     ]
    }
   ],
   "source": [
    "kor = []\n",
    "eng = []\n",
    "math = []\n",
    "\n",
    "k1, k2 = input(\"국어 점수를 입력하시오.(중간고사, 기말고사 순서로 입력할 것): \").split()\n",
    "k1 = int(k1)\n",
    "k2 = int(k2)\n",
    "kor.append(k1)\n",
    "kor.append(k2)\n",
    "e1, e2 = input(\"영어 점수를 입력하시오.(중간고사, 기말고사 순서로 입력할 것): \").split()\n",
    "e1 = int(e1)\n",
    "e2 = int(e2)\n",
    "eng.append(e1)\n",
    "eng.append(e2)\n",
    "m1, m2 = input(\"수학 점수를 입력하시오.(중간고사, 기말고사 순서로 입력할 것): \").split()\n",
    "m1 = int(m1)\n",
    "m2 = int(m2)\n",
    "math.append(m1)\n",
    "math.append(m2)\n",
    "\n",
    "print(\"\\n국어 평균: %0.2f점\\n영어 평균: %0.2f점\\n수학 평균: %0.2f점\\n\" \n",
    "      % (sum(kor)/len(kor), sum(eng)/len(eng), sum(math)/len(math)))\n",
    "\n",
    "for i in range(3):\n",
    "    if i == 0:\n",
    "        if (sum(kor)/len(kor)) >= 95:\n",
    "            print(\"국어 등급은 A+입니다.\\n\")\n",
    "        elif (sum(kor)/len(kor)) >= 90:\n",
    "              print(\"국어 등급은 A입니다.\\n\")\n",
    "        elif (sum(kor)/len(kor)) >= 85:\n",
    "              print(\"국어 등급은 B+입니다.\\n\")\n",
    "        elif (sum(kor)/len(kor)) >= 80:\n",
    "              print(\"국어 등급은 B입니다.\\n\")\n",
    "        elif (sum(kor)/len(kor)) >= 75:\n",
    "              print(\"국어 등급은 C+입니다.\\n\")\n",
    "        elif (sum(kor)/len(kor)) >= 70:\n",
    "              print(\"국어 등급은 C입니다.\\n\")\n",
    "        elif (sum(kor)/len(kor)) >= 65:\n",
    "              print(\"국어 등급은 D+입니다.\\n\")\n",
    "        elif (sum(kor)/len(kor)) >= 60:\n",
    "              print(\"국어 등급은 D입니다.\\n\")\n",
    "        else:\n",
    "              print(\"국어 등급은 F입니다.\\n재수강 하십시오.\\n\")\n",
    "                \n",
    "    elif i == 1:\n",
    "        if (sum(eng)/len(eng)) >= 95:\n",
    "            print(\"영어 등급은 A+입니다.\\n\")\n",
    "        elif (sum(eng)/len(eng)) >= 90:\n",
    "              print(\"영어 등급은 A입니다.\\n\")\n",
    "        elif (sum(eng)/len(eng)) >= 85:\n",
    "              print(\"영어 등급은 B+입니다.\\n\")\n",
    "        elif (sum(eng)/len(eng)) >= 80:\n",
    "              print(\"영어 등급은 B입니다.\\n\")\n",
    "        elif (sum(eng)/len(eng)) >= 75:\n",
    "              print(\"영어 등급은 C+입니다.\\n\")\n",
    "        elif (sum(eng)/len(eng)) >= 70:\n",
    "              print(\"영어 등급은 C입니다.\\n\")\n",
    "        elif (sum(eng)/len(eng)) >= 65:\n",
    "              print(\"영어 등급은 D+입니다.\\n\")\n",
    "        elif (sum(eng)/len(eng)) >= 60:\n",
    "              print(\"영어 등급은 D입니다.\\n\")\n",
    "        else:\n",
    "              print(\"영어 등급은 F입니다.\\n재수강 하십시오.\\n\")\n",
    "    else:\n",
    "        if (sum(math)/len(math)) >= 95:\n",
    "            print(\"수학 등급은 A+입니다.\\n\")\n",
    "        elif (sum(math)/len(math)) >= 90:\n",
    "              print(\"수학 등급은 A입니다.\\n\")\n",
    "        elif (sum(math)/len(math)) >= 85:\n",
    "              print(\"수학 등급은 B+입니다.\\n\")\n",
    "        elif (sum(math)/len(math)) >= 80:\n",
    "              print(\"수학 등급은 B입니다.\\n\")\n",
    "        elif (sum(math)/len(math)) >= 75:\n",
    "              print(\"수학 등급은 C+입니다.\\n\")\n",
    "        elif (sum(math)/len(math)) >= 70:\n",
    "              print(\"수학 등급은 C입니다.\\n\")\n",
    "        elif (sum(math)/len(math)) >= 65:\n",
    "              print(\"수학 등급은 D+입니다.\\n\")\n",
    "        elif (sum(math)/len(math)) >= 60:\n",
    "              print(\"수학 등급은 D입니다.\\n\")\n",
    "        else:\n",
    "              print(\"수학 등급은 F입니다.\\n재수강 하십시오.\\n\") "
   ]
  }
 ],
 "metadata": {
  "kernelspec": {
   "display_name": "Python 3 (ipykernel)",
   "language": "python",
   "name": "python3"
  },
  "language_info": {
   "codemirror_mode": {
    "name": "ipython",
    "version": 3
   },
   "file_extension": ".py",
   "mimetype": "text/x-python",
   "name": "python",
   "nbconvert_exporter": "python",
   "pygments_lexer": "ipython3",
   "version": "3.10.2"
  }
 },
 "nbformat": 4,
 "nbformat_minor": 5
}
