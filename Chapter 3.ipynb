{
 "cells": [
  {
   "cell_type": "code",
   "execution_count": 7,
   "id": "4ee8a0b9",
   "metadata": {},
   "outputs": [
    {
     "name": "stdout",
     "output_type": "stream",
     "text": [
      "문자열 입력 >> Python is a good language!\n",
      "참조할 첨자: 0 ~ 25\n",
      "참조할 첨자 입력 >> 12\n",
      "문자열: Python is a good language!, 길이: 26 \n",
      "참조 문자: g\n"
     ]
    }
   ],
   "source": [
    "str = input(\"문자열 입력 >> \")\n",
    "n = len(str)\n",
    "print(\"참조할 첨자:\", n-n, \"~\", n-1)\n",
    "c = int(input(\"참조할 첨자 입력 >> \"))\n",
    "print(\"문자열:\", str + \", 길이:\", n, \"\\n참조 문자:\", str[c])"
   ]
  },
  {
   "cell_type": "code",
   "execution_count": 14,
   "id": "6b2bcd6c",
   "metadata": {},
   "outputs": [
    {
     "name": "stdout",
     "output_type": "stream",
     "text": [
      "다섯 문자 이상의 문자열 입력 >> Python String Slicing\n",
      "입력 문자열: Python String Slicing\n",
      "첫 문자: P\n",
      "마지막 문자: g\n",
      "첫 문자를 제외한 부분 문자열: ython String Slicing\n",
      "마지막 문자를 제외한 부분 문자열: Python String Slicin\n",
      "맨 앞과 뒤의 두 문자씩을 제외한 부분 문자열: thon String Slici\n",
      "문자 하나씩을 건너뛴 부분 문자열: Pto tigSiig\n",
      "역문자열 gnicilS gnirtS nohtyP\n"
     ]
    }
   ],
   "source": [
    "str = input(\"다섯 문자 이상의 문자열 입력 >> \")\n",
    "n = len(str)\n",
    "print(\"입력 문자열:\", str)\n",
    "print(\"첫 문자:\", str[0])\n",
    "print(\"마지막 문자:\", str[n-1])\n",
    "print(\"첫 문자를 제외한 부분 문자열:\", str[1:])\n",
    "print(\"마지막 문자를 제외한 부분 문자열:\", str[0:n-1])\n",
    "print(\"맨 앞과 뒤의 두 문자씩을 제외한 부분 문자열:\", str[2:n-2])\n",
    "print(\"문자 하나씩을 건너뛴 부분 문자열:\", str[::2])\n",
    "print(\"역문자열\", str[::-1])"
   ]
  },
  {
   "cell_type": "code",
   "execution_count": 17,
   "id": "1ac459c9",
   "metadata": {},
   "outputs": [
    {
     "name": "stdout",
     "output_type": "stream",
     "text": [
      "Beautiful is better than ugly.\n",
      "위 철학을 메소드 replace()를 사용해 다음 철학으로 다시 저장\n",
      "Explicit is better than implicit.\n"
     ]
    }
   ],
   "source": [
    "str = input()\n",
    "repstr = str.replace(\"Beautiful\", \"Explicit\")\n",
    "repstr = repstr.replace(\"ugly\", \"implicit\")\n",
    "print(\"위 철학을 메소드 replace()를 사용해 다음 철학으로 다시 저장\\n\" + repstr)"
   ]
  },
  {
   "cell_type": "code",
   "execution_count": 27,
   "id": "74d35fb6",
   "metadata": {},
   "outputs": [
    {
     "name": "stdout",
     "output_type": "stream",
     "text": [
      "https\n",
      "docs.python.org\n",
      "tutorial\n"
     ]
    }
   ],
   "source": [
    "url = 'https://docs.python.org/3/tutorial'\n",
    "first = url.find('s')\n",
    "print(url[0:first+1] + \"\\n\" + url[url.find('d'):url.find('g')+1] + \"\\n\" + url[url.find(\"tutorial\"):len(url)])"
   ]
  },
  {
   "cell_type": "code",
   "execution_count": 29,
   "id": "4e6efa0f",
   "metadata": {},
   "outputs": [
    {
     "name": "stdout",
     "output_type": "stream",
     "text": [
      "시각 정보(16:30:15) 입력 >> 17:29:52\n",
      "입력 시각 정보: 17:29:52\n",
      "17시 29분 52초\n"
     ]
    }
   ],
   "source": [
    "time = input(\"시각 정보(16:30:15) 입력 >> \")\n",
    "hours, mins, secs = time.split(\":\")\n",
    "print(\"입력 시각 정보:\", time)\n",
    "print(hours + \"시 \" + mins + \"분 \" + secs + \"초\")"
   ]
  },
  {
   "cell_type": "code",
   "execution_count": 39,
   "id": "c9882210",
   "metadata": {},
   "outputs": [
    {
     "name": "stdout",
     "output_type": "stream",
     "text": [
      "실수 두개 입력 >> 5.4 2.7\n",
      "5.4 > 2.7 결과: True\n",
      "5.4 >= 2.7 결과: True\n",
      "5.4 < 2.7 결과: False\n",
      "5.4 <= 2.7 결과: False\n",
      "5.4 == 2.7 결과: False\n",
      "5.4 != 2.7 결과: True\n"
     ]
    }
   ],
   "source": [
    "a, b = input(\"실수 두개 입력 >> \").split(\" \")\n",
    "a = float(a)\n",
    "b = float(b)\n",
    "print(\"%0.1f > %0.1f 결과:\" % (a, b), a > b)\n",
    "print(\"%0.1f >= %0.1f 결과:\" % (a, b), a >= b)\n",
    "print(\"%0.1f < %0.1f 결과:\" % (a, b), a < b)\n",
    "print(\"%0.1f <= %0.1f 결과:\" % (a, b), a <= b)\n",
    "print(\"%0.1f == %0.1f 결과:\" % (a, b), a == b)\n",
    "print(\"%0.1f != %0.1f 결과:\" % (a, b), a != b)"
   ]
  },
  {
   "cell_type": "code",
   "execution_count": 14,
   "id": "ade5005a",
   "metadata": {},
   "outputs": [
    {
     "name": "stdout",
     "output_type": "stream",
     "text": [
      "10진수: 249 2진수: 11111001 8진수: 371 16진수: f9\n",
      "10진수: 250 2진수: 11111010 8진수: 372 16진수: fa\n",
      "10진수: 251 2진수: 11111011 8진수: 373 16진수: fb\n",
      "10진수: 252 2진수: 11111100 8진수: 374 16진수: fc\n",
      "10진수: 253 2진수: 11111101 8진수: 375 16진수: fd\n",
      "10진수: 254 2진수: 11111110 8진수: 376 16진수: fe\n",
      "10진수: 255 2진수: 11111111 8진수: 377 16진수: ff\n",
      "10진수:   0 2진수:        0 8진수:   0 16진수:  0\n"
     ]
    }
   ],
   "source": [
    "mask = 0xff\n",
    "a, b, c, d, e, f, g, h = -7, -6, -5, -4, -3, -2, -1, 0\n",
    "print('10진수: {0:3d} 2진수: {0:08b} 8진수: {0:3o} 16진수: {0:x}'.format(a & mask))\n",
    "print('10진수: {0:3d} 2진수: {0:08b} 8진수: {0:3o} 16진수: {0:x}'.format(b & mask))\n",
    "print('10진수: {0:3d} 2진수: {0:08b} 8진수: {0:3o} 16진수: {0:x}'.format(c & mask))\n",
    "print('10진수: {0:3d} 2진수: {0:08b} 8진수: {0:3o} 16진수: {0:x}'.format(d & mask))\n",
    "print('10진수: {0:3d} 2진수: {0:08b} 8진수: {0:3o} 16진수: {0:x}'.format(e & mask))\n",
    "print('10진수: {0:3d} 2진수: {0:08b} 8진수: {0:3o} 16진수: {0:x}'.format(f & mask))\n",
    "print('10진수: {0:3d} 2진수: {0:08b} 8진수: {0:3o} 16진수: {0:x}'.format(g & mask))\n",
    "print('10진수: {0:3d} 2진수: {0:8b} 8진수: {0:3o} 16진수: {0:2x}'.format(h & mask))"
   ]
  },
  {
   "cell_type": "code",
   "execution_count": null,
   "id": "dbb7f232",
   "metadata": {},
   "outputs": [],
   "source": []
  }
 ],
 "metadata": {
  "kernelspec": {
   "display_name": "Python 3 (ipykernel)",
   "language": "python",
   "name": "python3"
  },
  "language_info": {
   "codemirror_mode": {
    "name": "ipython",
    "version": 3
   },
   "file_extension": ".py",
   "mimetype": "text/x-python",
   "name": "python",
   "nbconvert_exporter": "python",
   "pygments_lexer": "ipython3",
   "version": "3.10.2"
  }
 },
 "nbformat": 4,
 "nbformat_minor": 5
}
