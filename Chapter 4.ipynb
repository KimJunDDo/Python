{
 "cells": [
  {
   "cell_type": "code",
   "execution_count": 5,
   "id": "4932fe80",
   "metadata": {},
   "outputs": [
    {
     "name": "stdout",
     "output_type": "stream",
     "text": [
      "월 입력 ? 3\n",
      "3월 겨울\n"
     ]
    }
   ],
   "source": [
    "month = input(\"월 입력 ? \")\n",
    "month2 = int(month)\n",
    "if month2 >= 4:\n",
    "    print(month + \"월 겨울\")\n",
    "elif month2 >= 6:\n",
    "    print(month + \"월 여름\")\n",
    "elif month2 >= 9:\n",
    "    print(month + \"월 가을\")\n",
    "elif month2 >= 11 and month2 <= 12 or month2 >= 1:\n",
    "    print(month + \"월 겨울\")"
   ]
  },
  {
   "cell_type": "code",
   "execution_count": 13,
   "id": "4cbe770f",
   "metadata": {},
   "outputs": [
    {
     "name": "stdout",
     "output_type": "stream",
     "text": [
      "근로 시간 37, 주급 444000\n",
      "근로 시간 46, 주급 828000\n",
      "근로 시간 48, 주급 864000\n",
      "근로 시간 39, 주급 468000\n",
      "근로 시간 44, 주급 792000\n"
     ]
    }
   ],
   "source": [
    "import random\n",
    "for i in range(5):\n",
    "    hours = random.randint(35, 50)\n",
    "    if hours >= 40:\n",
    "        print(\"근로 시간 %d, 주급 %d\" % (hours, hours*18000))\n",
    "    else:\n",
    "        print(\"근로 시간 %d, 주급 %d\" % (hours, hours*12000))"
   ]
  },
  {
   "cell_type": "code",
   "execution_count": 8,
   "id": "c912cb14",
   "metadata": {},
   "outputs": [
    {
     "name": "stdout",
     "output_type": "stream",
     "text": [
      "25 99 75 중에서 최대: 99\n"
     ]
    }
   ],
   "source": [
    "import random\n",
    "fn = random.randint(1, 99)\n",
    "sn = random.randint(1, 99)\n",
    "tn = random.randint(1, 99)\n",
    "max = 0\n",
    "if fn > sn:\n",
    "    max = fn\n",
    "    if fn > tn:\n",
    "        max = fn\n",
    "    elif fn < tn:\n",
    "        max = tn\n",
    "    else:\n",
    "        max = fn\n",
    "elif fn < sn:\n",
    "    max = sn\n",
    "    if sn > tn:\n",
    "        max = sn\n",
    "    elif sn < tn:\n",
    "        max = tn\n",
    "    else:\n",
    "        max = sn\n",
    "print(\"%d %d %d 중에서 최대: %d\" % (fn, sn, tn, max))"
   ]
  },
  {
   "cell_type": "code",
   "execution_count": 9,
   "id": "83343848",
   "metadata": {},
   "outputs": [
    {
     "name": "stdout",
     "output_type": "stream",
     "text": [
      "당신의 키(cm)와 몸무게(kg)는? >> 171 72\n",
      "키: 171.0(cm), 몸무게: 72.0(km)\n",
      "BMI: 24.6 정상\n"
     ]
    }
   ],
   "source": [
    "h, w = input(\"당신의 키(cm)와 몸무게(kg)는? >> \").split()\n",
    "h, w = float(h), float(w)\n",
    "bmi = w / ((h/100)*(h/100))\n",
    "print(\"키: %0.1f(cm), 몸무게: %0.1f(km)\" % (h, w))\n",
    "if bmi >= 40:\n",
    "    print(\"BMI: %0.1f 고도 비만\" % bmi)\n",
    "elif bmi >= 35:\n",
    "    print(\"BMI: %0.1f 중등도 비만\" % bmi)\n",
    "elif bmi >= 30:\n",
    "    print(\"BMI: %0.1f 비만\" % bmi)\n",
    "elif bmi >= 25:\n",
    "    print(\"BMI: %0.1f 과체중\" % bmi)\n",
    "elif bmi >= 18.5:\n",
    "    print(\"BMI: %0.1f 정상\" % bmi)\n",
    "else:\n",
    "    print(\"BMI: %0.1f 저체중\" % bmi)"
   ]
  },
  {
   "cell_type": "code",
   "execution_count": 16,
   "id": "6d5f6359",
   "metadata": {},
   "outputs": [
    {
     "name": "stdout",
     "output_type": "stream",
     "text": [
      "섭씨: 20 화씨: 68.0 화씨(약식): 70 차이: 2.00\n",
      "섭씨: 23 화씨: 73.4 화씨(약식): 76 차이: 2.60\n",
      "섭씨: 26 화씨: 78.8 화씨(약식): 82 차이: 3.20\n",
      "섭씨: 29 화씨: 84.2 화씨(약식): 88 차이: 3.80\n",
      "섭씨: 32 화씨: 89.6 화씨(약식): 94 차이: 4.40\n",
      "섭씨: 35 화씨: 95.0 화씨(약식): 100 차이: 5.00\n",
      "섭씨: 38 화씨: 100.4 화씨(약식): 106 차이: 5.60\n",
      "섭씨: 41 화씨: 105.8 화씨(약식): 112 차이: 6.20\n"
     ]
    }
   ],
   "source": [
    "for i in range(20, 42, 3):\n",
    "    print(\"섭씨: %d 화씨: %0.1f 화씨(약식): %d 차이: %0.2f\" \n",
    "         % (i, i*9/5+32, i*2+30, abs((i*9/5+32)-(i*2+30))))"
   ]
  },
  {
   "cell_type": "code",
   "execution_count": 22,
   "id": "6fbd1577",
   "metadata": {},
   "outputs": [
    {
     "name": "stdout",
     "output_type": "stream",
     "text": [
      "94 * 88 = 8272\n",
      "\n",
      "계속 y / n ? y\n",
      "71 * 52 = 3692\n",
      "\n",
      "계속 y / n ? y\n",
      "31 * 98 = 3038\n",
      "\n",
      "계속 y / n ? n\n"
     ]
    }
   ],
   "source": [
    "import random\n",
    "while True:\n",
    "    x = random.randint(1, 99)\n",
    "    y = random.randint(1, 99)\n",
    "    \n",
    "    print('{} * {} = {}\\n'.format(x, y, x*y))\n",
    "    end = input(\"계속 y / n ? \")\n",
    "    if end == 'n':\n",
    "        break"
   ]
  },
  {
   "cell_type": "code",
   "execution_count": null,
   "id": "aecd3d23",
   "metadata": {},
   "outputs": [],
   "source": []
  },
  {
   "cell_type": "code",
   "execution_count": null,
   "id": "17b7df92",
   "metadata": {},
   "outputs": [],
   "source": []
  }
 ],
 "metadata": {
  "kernelspec": {
   "display_name": "Python 3 (ipykernel)",
   "language": "python",
   "name": "python3"
  },
  "language_info": {
   "codemirror_mode": {
    "name": "ipython",
    "version": 3
   },
   "file_extension": ".py",
   "mimetype": "text/x-python",
   "name": "python",
   "nbconvert_exporter": "python",
   "pygments_lexer": "ipython3",
   "version": "3.10.2"
  }
 },
 "nbformat": 4,
 "nbformat_minor": 5
}
