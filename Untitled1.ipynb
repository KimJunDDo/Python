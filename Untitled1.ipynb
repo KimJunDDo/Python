{
 "cells": [
  {
   "cell_type": "code",
   "execution_count": 21,
   "id": "0c475eef",
   "metadata": {},
   "outputs": [
    {
     "name": "stdout",
     "output_type": "stream",
     "text": [
      "1! = 1\n",
      "6! = 720\n",
      "11! = 39916800\n",
      "16! = 20922789888000\n",
      "중앙값:80.00\n",
      "평균:81.29\n",
      "분산:127.90\n",
      "표준편차:11.31\n"
     ]
    }
   ],
   "source": [
    "#357 2\n",
    "from math import factorial as fact\n",
    "from statistics import median\n",
    "from statistics import mean\n",
    "from statistics import variance\n",
    "from statistics import stdev\n",
    "\n",
    "for i in range(1, 17, 5):\n",
    "    print(f'{i}! = {fact(i)}')\n",
    "    \n",
    "my_list = [80, 99, 77, 65, 92, 74, 82]\n",
    "print('중앙값:{:.2f}'.format(median(my_list)))\n",
    "print('평균:{:.2f}'.format(mean(my_list)))\n",
    "print('분산:{:.2f}'.format(variance(my_list)))\n",
    "print('표준편차:{:.2f}'.format(stdev(my_list)))"
   ]
  },
  {
   "cell_type": "code",
   "execution_count": 29,
   "id": "e26b631b",
   "metadata": {},
   "outputs": [
    {
     "name": "stdout",
     "output_type": "stream",
     "text": [
      "몇 학년인가요?1\n",
      "당신은 freshman 군요\n",
      "예외 처리가 잘되는군요!\n"
     ]
    }
   ],
   "source": [
    "#434 3\n",
    "uyear = {1:'freshman',\n",
    "         2:'sohomore',\n",
    "         3:'junior',\n",
    "         4:'senior'}\n",
    "\n",
    "try:\n",
    "    input_uyear = int(input('몇 학년인가요?'))\n",
    "    if input_uyear < 1 or input_uyear > 4:\n",
    "        raise Exception('1~4 사이를 입력하세요')\n",
    "except Exception as e:\n",
    "    print(type(e), e)\n",
    "else:\n",
    "    print('당신은', uyear[input_uyear], '군요')\n",
    "finally:\n",
    "    print('예외 처리가 잘되는군요!')"
   ]
  },
  {
   "cell_type": "code",
   "execution_count": 38,
   "id": "ddfc2dab",
   "metadata": {},
   "outputs": [
    {
     "ename": "ModuleNotFoundError",
     "evalue": "No module named 'abs'",
     "output_type": "error",
     "traceback": [
      "\u001b[1;31m---------------------------------------------------------------------------\u001b[0m",
      "\u001b[1;31mModuleNotFoundError\u001b[0m                       Traceback (most recent call last)",
      "Input \u001b[1;32mIn [38]\u001b[0m, in \u001b[0;36m<cell line: 2>\u001b[1;34m()\u001b[0m\n\u001b[0;32m      1\u001b[0m \u001b[38;5;66;03m#479 6\u001b[39;00m\n\u001b[1;32m----> 2\u001b[0m \u001b[38;5;28;01mfrom\u001b[39;00m \u001b[38;5;21;01mabs\u001b[39;00m \u001b[38;5;28;01mimport\u001b[39;00m \u001b[38;5;241m*\u001b[39m\n\u001b[0;32m      4\u001b[0m \u001b[38;5;28;01mclass\u001b[39;00m \u001b[38;5;21;01mPolygon\u001b[39;00m(metaclass \u001b[38;5;241m=\u001b[39m ABCMeta):\n\u001b[0;32m      6\u001b[0m     \u001b[38;5;129m@abs\u001b[39m\u001b[38;5;241m.\u001b[39mabstractemethod\n\u001b[0;32m      7\u001b[0m     \u001b[38;5;28;01mdef\u001b[39;00m \u001b[38;5;21marea\u001b[39m(\u001b[38;5;28mself\u001b[39m):\n",
      "\u001b[1;31mModuleNotFoundError\u001b[0m: No module named 'abs'"
     ]
    }
   ],
   "source": [
    "#479 6\n",
    "from abs import *\n",
    "\n",
    "class Polygon(metaclass = ABCMeta):\n",
    "\n",
    "    @abs.abstractemethod\n",
    "    def area(self):\n",
    "         pass\n",
    "    \n",
    "    @abs.abstractemethod\n",
    "    def pereimeter(self):\n",
    "        pass\n",
    "    \n",
    "class Rectangle(Polygon):\n",
    "    def __init__(self, width, height):\n",
    "        self.width = width\n",
    "        self.height = height\n",
    "    def area(self):\n",
    "        return self.width * self.height\n",
    "    \n",
    "    def perimeter(self):\n",
    "        return 2 * (self.width + self.height)\n",
    "    \n",
    "my_rec = Rectangle(3, 4)\n",
    "print(my_rec.area())\n",
    "print(my_rec.perimeter())"
   ]
  },
  {
   "cell_type": "code",
   "execution_count": null,
   "id": "7d4781fa",
   "metadata": {},
   "outputs": [],
   "source": []
  }
 ],
 "metadata": {
  "kernelspec": {
   "display_name": "Python 3 (ipykernel)",
   "language": "python",
   "name": "python3"
  },
  "language_info": {
   "codemirror_mode": {
    "name": "ipython",
    "version": 3
   },
   "file_extension": ".py",
   "mimetype": "text/x-python",
   "name": "python",
   "nbconvert_exporter": "python",
   "pygments_lexer": "ipython3",
   "version": "3.9.12"
  }
 },
 "nbformat": 4,
 "nbformat_minor": 5
}
