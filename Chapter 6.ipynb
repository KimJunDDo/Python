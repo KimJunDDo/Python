{
 "cells": [
  {
   "cell_type": "code",
   "execution_count": 16,
   "id": "760e2c5b",
   "metadata": {},
   "outputs": [
    {
     "name": "stdout",
     "output_type": "stream",
     "text": [
      "이름: 김영희\n",
      "전화번호: 010-3017-4468\n",
      "성별: 여자\n",
      "나이: 22\n",
      "대학교: 한국대학교\n"
     ]
    }
   ],
   "source": [
    "personal = {'이름': '김영희', '전화번호': '010-3017-4468', '성별': '여자', '나이': 22, '대학교': '한국대학교'}\n",
    "for key in personal.keys():\n",
    "    print('%s: %s' % (key, personal[key]))"
   ]
  },
  {
   "cell_type": "code",
   "execution_count": 23,
   "id": "a9803100",
   "metadata": {},
   "outputs": [
    {
     "name": "stdout",
     "output_type": "stream",
     "text": [
      "주식 이름 ? 엔씨소프트\n",
      "엔씨소프트: 52600\n",
      "\n",
      "주식 이름 ? 골프존\n",
      "골프존: 215000\n",
      "\n",
      "주식 이름 ? 현대\n",
      "주식 이름이 없습니다.\n"
     ]
    }
   ],
   "source": [
    "company = {'삼성에스디에스': 242000, '삼성전자': 47000, '엔씨소프트': 52600, '핸디소프트': 5120,\n",
    "          '골프존': 215000, '기아': 56300}\n",
    "\n",
    "more = True\n",
    "\n",
    "while more:\n",
    "    stock = input(\"주식 이름 ? \")\n",
    "    if stock in company:\n",
    "        print(\"%s: %s\\n\" % (stock, company[stock]))\n",
    "    else:\n",
    "        print(\"주식 이름이 없습니다.\")\n",
    "        more = False"
   ]
  },
  {
   "cell_type": "code",
   "execution_count": 14,
   "id": "69c27ff1",
   "metadata": {},
   "outputs": [
    {
     "name": "stdout",
     "output_type": "stream",
     "text": [
      "책 이름: 파이썬 개론, 저자: 강환수\n",
      "책 이름: Perfect C, 저자: 강환수 이동규\n",
      "책 이름: 컴퓨터 개론, 저자: 강환수 조진형 신용현\n"
     ]
    }
   ],
   "source": [
    "books = {'파이썬 개론': ['강환수'],\n",
    "        'Perfect C': ['강환수', '이동규'],\n",
    "        '컴퓨터 개론': ['강환수', '조진형', '신용현'],}\n",
    "for key in books.keys():\n",
    "    if key == '파이썬 개론':\n",
    "        print(\"책 이름: %s, 저자: %s\" % (key, books[key][0]))\n",
    "    elif key == 'Perfect C':\n",
    "        print(\"책 이름: %s, 저자: %s %s\" % (key, books[key][0], books[key][1]))\n",
    "    else:\n",
    "        print(\"책 이름: %s, 저자: %s %s %s\" % (key, books[key][0], books[key][1], books[key][2]))"
   ]
  },
  {
   "cell_type": "code",
   "execution_count": 52,
   "id": "a3175b4b",
   "metadata": {},
   "outputs": [
    {
     "name": "stdout",
     "output_type": "stream",
     "text": [
      "*****************\n",
      "철수   영희   승자  \n",
      "*****************\n",
      "보오   보오   비김   1\n",
      "가위   바위   영희   1\n",
      "가위   보오   철수   1\n",
      "바위   가위   철수   2\n",
      "보오   가위   영희   2\n",
      "바위   보오   영희   3\n",
      "바위   가위   철수   3\n",
      "바위   바위   비김   2\n",
      "가위   보오   철수   4\n",
      "바위   바위   비김   3\n",
      "바위   바위   비김   4\n",
      "보오   바위   철수   5\n",
      "가위   바위   영희   4\n",
      "가위   가위   비김   5\n",
      "바위   가위   철수   6\n",
      "가위   바위   영희   5\n",
      "바위   바위   비김   6\n",
      "보오   보오   비김   7\n",
      "바위   바위   비김   8\n",
      "바위   가위   철수   7\n",
      "\n",
      "총 게임 횟수: 20 비긴 횟수: 8\n",
      "철수 승률: 0.58\n",
      "영희 승률: 0.42\n"
     ]
    }
   ],
   "source": [
    "from random import choice\n",
    "dcs = {'가위':'보오', '바위':'가위', '보오':'바위'}\n",
    "tit = ['비김', '철수', '영희', '승자']\n",
    "rsp = ('가위', '바위', '보오')\n",
    "\n",
    "print('*'*17)\n",
    "print('{:4} {:4} {:4}'.format(tit[1], tit[2], tit[3]))\n",
    "print('*'*17)\n",
    "\n",
    "drawrate = 0\n",
    "csrate = 0\n",
    "yhrate = 0\n",
    "\n",
    "for _ in range(20):\n",
    "    cs = choice(rsp)\n",
    "    yh = choice(rsp)\n",
    "    \n",
    "    print('{:4} {:4}'.format(cs, yh), end = ' ')\n",
    "    \n",
    "    if cs == yh:\n",
    "        index = 0\n",
    "        drawrate += 1\n",
    "        print('{:4} {}'.format(tit[index], drawrate))\n",
    "    elif dcs[cs] == yh:\n",
    "        index = 1\n",
    "        csrate += 1\n",
    "        print('{:4} {}'.format(tit[index], csrate))\n",
    "    else:\n",
    "        index = 2\n",
    "        yhrate += 1\n",
    "        print('{:4} {}'.format(tit[index], yhrate))\n",
    "        \n",
    "print(\"\\n총 게임 횟수: %d 비긴 횟수: %d\" % (20, drawrate))\n",
    "print(\"철수 승률: %0.2f\\n영희 승률: %0.2f\" % (csrate/(20-drawrate), yhrate/(20-drawrate)))"
   ]
  },
  {
   "cell_type": "code",
   "execution_count": 71,
   "id": "946eb67f",
   "metadata": {},
   "outputs": [
    {
     "name": "stdout",
     "output_type": "stream",
     "text": [
      "딕셔너리: {'apple': 1000, 'banana': 500, 'grapes': 1200, 'pear': 1500}\n",
      "\n",
      "\n",
      "1 apple 가격: 1000\n",
      "2 banana 가격: 500\n",
      "3 grapes 가격: 1200\n",
      "4 pear 가격: 1500\n"
     ]
    }
   ],
   "source": [
    "fruits = ['apple', 'banana', 'grapes', 'pear']\n",
    "prices = (1000, 500, 1200, 1500)\n",
    "dic = dict(zip(fruit, prices))\n",
    "\n",
    "print(\"딕셔너리:\", dic)\n",
    "print('\\n')\n",
    "\n",
    "for i, fruits in enumerate(fruits):\n",
    "        print(\"{} {} 가격: {}\".format(i+1, fruits, prices[i]))"
   ]
  },
  {
   "cell_type": "code",
   "execution_count": 94,
   "id": "acdccc41",
   "metadata": {},
   "outputs": [
    {
     "name": "stdout",
     "output_type": "stream",
     "text": [
      "A = {9, 10, 13, 18, 19}\n",
      "B = {4, 9, 10, 16, 20}\n",
      "\n",
      "A | B = {4, 9, 10, 13, 16, 18, 19, 20}\n",
      "A & B = {9, 10}\n",
      "A - B = {18, 19, 13}\n",
      "A ^ B = {16, 18, 19, 4, 20, 13}\n"
     ]
    }
   ],
   "source": [
    "from random import sample\n",
    "A = set(sample(list(range(1, 21)), 5))\n",
    "B = set(sample(list(range(1, 21)), 5))\n",
    "print(\"A =\", A)\n",
    "print(\"B =\", B)\n",
    "\n",
    "print(\"\\nA | B =\", A|B)\n",
    "print(\"A & B =\", A&B)\n",
    "print(\"A - B =\", A-B)\n",
    "print(\"A ^ B =\", A^B)"
   ]
  }
 ],
 "metadata": {
  "kernelspec": {
   "display_name": "Python 3 (ipykernel)",
   "language": "python",
   "name": "python3"
  },
  "language_info": {
   "codemirror_mode": {
    "name": "ipython",
    "version": 3
   },
   "file_extension": ".py",
   "mimetype": "text/x-python",
   "name": "python",
   "nbconvert_exporter": "python",
   "pygments_lexer": "ipython3",
   "version": "3.10.2"
  }
 },
 "nbformat": 4,
 "nbformat_minor": 5
}
