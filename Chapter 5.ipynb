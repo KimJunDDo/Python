{
 "cells": [
  {
   "cell_type": "code",
   "execution_count": 27,
   "id": "5fc2e5db",
   "metadata": {},
   "outputs": [
    {
     "name": "stdout",
     "output_type": "stream",
     "text": [
      "리스트 [64, 60, 80, 23, 81, 46, 45, 14, 20, 37]\n",
      "정렬 리스트 [14, 20, 23, 37, 45, 46, 60, 64, 80, 81]\n",
      "역순 리스트 [81, 80, 64, 60, 46, 45, 37, 23, 20, 14]\n"
     ]
    }
   ],
   "source": [
    "from random import randint\n",
    "num = []\n",
    "\n",
    "for i in range(10):\n",
    "    randnum = randint(1,99)\n",
    "    num.append(randnum)\n",
    "    \n",
    "print(\"리스트\", num)\n",
    "print(\"정렬 리스트\", sorted(num))\n",
    "print(\"역순 리스트\", sorted(num, reverse = True))"
   ]
  },
  {
   "cell_type": "code",
   "execution_count": 61,
   "id": "d106cc3a",
   "metadata": {},
   "outputs": [
    {
     "name": "stdout",
     "output_type": "stream",
     "text": [
      "찾을 단어 입력 ? 초보자\n",
      "novice\n"
     ]
    }
   ],
   "source": [
    "korean = ('정렬', '초보자', '내포', '사전')\n",
    "english = ('sorting', 'novice', 'comprehension', 'dictionary')\n",
    "\n",
    "word = input(\"찾을 단어 입력 ? \")\n",
    "for i in range(len(korean)):\n",
    "    if korean[i] == word:\n",
    "        print(english[i])\n",
    "        break\n",
    "    elif korean.count(word) != 1:\n",
    "        print(\"잘못된 입력입니다.\\n다시 입력해주세요.\")\n",
    "        break"
   ]
  },
  {
   "cell_type": "code",
   "execution_count": 83,
   "id": "1a5eb66e",
   "metadata": {},
   "outputs": [
    {
     "name": "stdout",
     "output_type": "stream",
     "text": [
      "+ 012345678901\n",
      "  HelloPython!\n",
      "- 210987654321\n",
      "슬라이스[?:?:?] 3개 입력 >> 3 10 2\n",
      "['l', 'P', 't', 'o']\n",
      "슬라이스[?:?:?] 3개 입력 >> 2 8 4\n",
      "['l', 'y']\n",
      "슬라이스[?:?:?] 3개 입력 >> 1 10 3\n",
      "['e', 'o', 't']\n",
      "슬라이스[?:?:?] 3개 입력 >> 3 7 1\n",
      "['l', 'o', 'P', 'y']\n",
      "슬라이스[?:?:?] 3개 입력 >> 1 10 -1\n",
      "[]\n",
      "슬라이스[?:?:?] 3개 입력 >> -1 -8 -1\n",
      "['!', 'n', 'o', 'h', 't', 'y', 'P']\n",
      "슬라이스[?:?:?] 3개 입력 >> 1 8 -1\n",
      "[]\n",
      "슬라이스[?:?:?] 3개 입력 >> 0 0 0\n",
      "**********종료**********\n"
     ]
    }
   ],
   "source": [
    "print(\"+ 012345678901\\n  HelloPython!\\n- 210987654321\")\n",
    "list = ['H', 'e', 'l', 'l', 'o', 'P', 'y', 't', 'h', 'o', 'n', '!']\n",
    "\n",
    "while True:\n",
    "    x, y, z = input(\"슬라이스[?:?:?] 3개 입력 >> \").split()\n",
    "    x = int(x)\n",
    "    y = int(y)\n",
    "    z = int(z)\n",
    "    \n",
    "    if x == 0 and y == 0 and z == 0:\n",
    "        print(\"**********종료**********\")\n",
    "        break\n",
    "    \n",
    "    print(list[x:y:z])"
   ]
  },
  {
   "cell_type": "code",
   "execution_count": 14,
   "id": "0c161fca",
   "metadata": {},
   "outputs": [
    {
     "name": "stdout",
     "output_type": "stream",
     "text": [
      "각 열의 합:  [6, 15, 24]\n",
      "각 열의 합:  [12, 15, 18]\n"
     ]
    }
   ],
   "source": [
    "data = [[1, 2, 3],\n",
    "        [4, 5, 6],\n",
    "        [7, 8, 9]]\n",
    "\n",
    "rsum = [data[0][0] + data[0][1] + data[0][2], \n",
    "         data[1][0] + data[1][1] + data[1][2], \n",
    "         data[2][0] + data[2][1] + data[2][2]]\n",
    "\n",
    "csum = [data[0][0] + data[1][0] + data[2][0], \n",
    "         data[0][1] + data[1][1] + data[2][1], \n",
    "         data[0][2] + data[1][2] + data[2][2]]\n",
    "\n",
    "print(\"각 열의 합: \", rsum)\n",
    "\n",
    "print(\"각 열의 합: \", csum)"
   ]
  },
  {
   "cell_type": "code",
   "execution_count": 49,
   "id": "24423d19",
   "metadata": {},
   "outputs": [
    {
     "name": "stdout",
     "output_type": "stream",
     "text": [
      "메소드 insert()로 팀원 수 삽입\n",
      "['축구', 11, '야구', 9, '농구', 5, '배구', 6] \n",
      "\n",
      "메소드 insert()로 '' 삽입\n",
      "['축구', '', '야구', '', '농구', '', '배구', ''] \n",
      "\n",
      "슬라이스 sports[1::2]에 num을 대입\n",
      "['축구', 11, '야구', 9, '농구', 5, '배구', 6]\n"
     ]
    }
   ],
   "source": [
    "sports = ['축구', '야구', '농구', '배구']\n",
    "num = [11, 9, 5, 6]\n",
    "\n",
    "for i in range(4):\n",
    "    sports.insert(i+i+1, num[i])\n",
    "print(\"메소드 insert()로 팀원 수 삽입\")\n",
    "print(sports, \"\\n\")\n",
    "\n",
    "for i in range(4):\n",
    "    sports.pop(i+1)\n",
    "for i in range(4):\n",
    "    sports2 = sports.insert(i+i+1, '')\n",
    "print(\"메소드 insert()로 '' 삽입\")\n",
    "print(sports, \"\\n\")\n",
    "\n",
    "sports[1::2]=num\n",
    "print(\"슬라이스 sports[1::2]에 num을 대입\")\n",
    "print(sports)"
   ]
  },
  {
   "cell_type": "code",
   "execution_count": 67,
   "id": "c95fb0a8",
   "metadata": {},
   "outputs": [
    {
     "name": "stdout",
     "output_type": "stream",
     "text": [
      "원 행렬(m) 출력:\n",
      "1 2\n",
      "3 4\n",
      "5 6\n",
      "7 8\n",
      "\n",
      "원 행렬(m) 출력:\n",
      "1 2 \n",
      "3 4 \n",
      "5 6 \n",
      "7 8 \n",
      "\n",
      "원 행렬(m) 출력:\n",
      "1 2 \n",
      "3 4 \n",
      "5 6 \n",
      "7 8 \n",
      "\n",
      "전치 행렬(m) 출력:\n",
      "1 3 5 7 \n",
      "2 4 6 8 \n"
     ]
    }
   ],
   "source": [
    "m = [[1, 2], [3, 4], [5, 6], [7, 8]]\n",
    "\n",
    "print(\"원 행렬(m) 출력:\") #방법1\n",
    "for x, y in m:\n",
    "    print(x, y)\n",
    "    \n",
    "print(\"\\n원 행렬(m) 출력:\") #방법2\n",
    "for i in range(len(m)):\n",
    "    for j in range(len(m[i])):\n",
    "        print(m[i][j], end=' ')\n",
    "    print()\n",
    "\n",
    "print(\"\\n원 행렬(m) 출력:\") #방법3\n",
    "for i in m:\n",
    "    for j in i:\n",
    "        print(j, end=' ')\n",
    "    print()\n",
    "    \n",
    "print(\"\\n전치 행렬(m) 출력:\")\n",
    "for i in range(2):\n",
    "    for j in range(4):\n",
    "        print(m[j][i], end=' ')\n",
    "    print()"
   ]
  },
  {
   "cell_type": "code",
   "execution_count": 69,
   "id": "3ccae073",
   "metadata": {},
   "outputs": [
    {
     "name": "stdout",
     "output_type": "stream",
     "text": [
      "트랜스포즈를 컴프리헨션으로 만들어 그대로 출력\n",
      "[[1, 3, 5, 7], [2, 4, 6, 8]]\n",
      "\n",
      "트랜스포즈를 for문으로 출력\n",
      "1 3 5 7\n",
      "2 4 6 8\n"
     ]
    }
   ],
   "source": [
    "m = [[1, 2], [3, 4], [5, 6], [7, 8]]\n",
    "transpose = [[row[i] for row in m] for i in range(len(m[0]))]\n",
    "\n",
    "print(\"트랜스포즈를 컴프리헨션으로 만들어 그대로 출력\")\n",
    "print(transpose)\n",
    "\n",
    "print(\"\\n트랜스포즈를 for문으로 출력\")\n",
    "for x, y, z, w in transpose:\n",
    "    print(x, y, z, w)"
   ]
  },
  {
   "cell_type": "code",
   "execution_count": 91,
   "id": "ee1d3474",
   "metadata": {},
   "outputs": [
    {
     "name": "stdout",
     "output_type": "stream",
     "text": [
      "리스트: [21, 40, 55, 12, 7, 54, 83, 33, 9, 74]\n",
      "튜플: (21, 40, 55, 12, 7, 54, 83, 33, 9, 74)\n",
      "튜플 정렬된 리스트: [7, 9, 12, 21, 33, 40, 54, 55, 74, 83]\n",
      "\n",
      "합: 388, 항목수: 10\n",
      "최대: 83, 최소: 7, 평균: 38.80\n"
     ]
    }
   ],
   "source": [
    "from random import randint\n",
    "num = []\n",
    "\n",
    "for i in range(10):\n",
    "    randnum = randint(1,99)\n",
    "    num.append(randnum)\n",
    "    \n",
    "print(\"리스트:\", num)\n",
    "print(\"튜플:\", tuple(num))\n",
    "print(\"튜플 정렬된 리스트:\", sorted(tuple(num)))\n",
    "print(\"\\n합: %d, 항목수: %d\" % (sum(tuple(num)), len(tuple(num))))\n",
    "print(\"최대: %d, 최소: %d, 평균: %0.2f\" \n",
    "      % (max(tuple(num)), min(tuple(num)), float(sum(tuple(num)) / len(tuple(num)))))"
   ]
  }
 ],
 "metadata": {
  "kernelspec": {
   "display_name": "Python 3 (ipykernel)",
   "language": "python",
   "name": "python3"
  },
  "language_info": {
   "codemirror_mode": {
    "name": "ipython",
    "version": 3
   },
   "file_extension": ".py",
   "mimetype": "text/x-python",
   "name": "python",
   "nbconvert_exporter": "python",
   "pygments_lexer": "ipython3",
   "version": "3.10.2"
  }
 },
 "nbformat": 4,
 "nbformat_minor": 5
}
