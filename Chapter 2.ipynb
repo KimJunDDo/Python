{
 "cells": [
  {
   "cell_type": "code",
   "execution_count": 4,
   "id": "76a5f6f4",
   "metadata": {},
   "outputs": [
    {
     "name": "stdout",
     "output_type": "stream",
     "text": [
      "문자열 1: python\n",
      "문자열 2: 언어\n",
      "python 언어\n"
     ]
    }
   ],
   "source": [
    "str1 = input(\"문자열 1: \")\n",
    "str2 = input(\"문자열 2: \")\n",
    "\n",
    "print(str1, str2)"
   ]
  },
  {
   "cell_type": "code",
   "execution_count": 12,
   "id": "564a0c2d",
   "metadata": {},
   "outputs": [
    {
     "name": "stdout",
     "output_type": "stream",
     "text": [
      "차의 속도를 입력(km) >> 135\n",
      "135(km)은 83.85093167701862 마일(miles)이다.\n"
     ]
    }
   ],
   "source": [
    "km = input(\"차의 속도를 입력(km) >> \")\n",
    "mile = int(km) / 1.61\n",
    "\n",
    "print(km+\"(km)은\", mile, \"마일(miles)이다.\")"
   ]
  },
  {
   "cell_type": "code",
   "execution_count": 13,
   "id": "84660912",
   "metadata": {},
   "outputs": [
    {
     "name": "stdout",
     "output_type": "stream",
     "text": [
      "아메리카노 몇 개 주문하세요?7\n",
      "총 가격은 24500 이다.\n"
     ]
    }
   ],
   "source": [
    "americano =  input(\"아메리카노 몇 개 주문하세요? \")\n",
    "price = int(americano) * 3500\n",
    "\n",
    "print(\"총 가격은\", price, \"이다.\")"
   ]
  },
  {
   "cell_type": "code",
   "execution_count": 5,
   "id": "de596b95",
   "metadata": {},
   "outputs": [
    {
     "name": "stdout",
     "output_type": "stream",
     "text": [
      "알려진 지구 둘레: 40120\n",
      "지구와 같은 원둘레: 40074.77587040001\n",
      "차이: 45.22412959999201(km)\n"
     ]
    }
   ],
   "source": [
    "Earth =  input(\"알려진 지구 둘레: \")\n",
    "Circumference =  input(\"지구와 같은 원둘레: \")\n",
    "dis = float(Earth) - float(Circumference)\n",
    "\n",
    "print(\"차이: \"+str(dis)+\"(km)\")"
   ]
  },
  {
   "cell_type": "code",
   "execution_count": 10,
   "id": "c4b871f8",
   "metadata": {},
   "outputs": [
    {
     "name": "stdout",
     "output_type": "stream",
     "text": [
      "온도 입력 >> 38\n",
      "정확 계산: 섭씨: 38 , 화씨: 100.4 \n",
      "정확 계산: 섭씨: 38 , 화씨: 106 \n",
      "차이: -5.599999999999994\n"
     ]
    }
   ],
   "source": [
    "C = input(\"온도 입력 >> \")\n",
    "F = float(C) * 9 / 5 + 32\n",
    "F2 = float(C) * 2 + 30\n",
    "dis = F - F2\n",
    "print(\"정확 계산: 섭씨:\", C, \", 화씨:\", F, \"\\n정확 계산: 섭씨:\", C, \", 화씨:\", int(F2), \"\\n차이:\", dis)"
   ]
  },
  {
   "cell_type": "code",
   "execution_count": 14,
   "id": "8505c440",
   "metadata": {},
   "outputs": [
    {
     "name": "stdout",
     "output_type": "stream",
     "text": [
      "Enter First number: 12\n",
      "Enter First number: 5\n",
      "12 / 5 ==> 2.4\n",
      "12 % 5 ==> 2\n",
      "12 // 5 ==> 2\n",
      "12 ** 5 ==> 248832\n"
     ]
    }
   ],
   "source": [
    "Fn = input(\"Enter First number: \")\n",
    "Sn = input(\"Enter First number: \")\n",
    "Fn = int(Fn)\n",
    "Sn = int(Sn)\n",
    "\n",
    "div = Fn / Sn\n",
    "mod = Fn % Sn\n",
    "fdiv = Fn // Sn\n",
    "exp = Fn ** Sn\n",
    "\n",
    "print(Fn, \"/\", Sn, \"==>\", div)\n",
    "print(Fn, \"%\", Sn, \"==>\", mod)\n",
    "print(Fn, \"//\", Sn, \"==>\", fdiv)\n",
    "print(Fn, \"**\", Sn, \"==>\", exp)"
   ]
  },
  {
   "cell_type": "code",
   "execution_count": 19,
   "id": "bc020186",
   "metadata": {},
   "outputs": [
    {
     "name": "stdout",
     "output_type": "stream",
     "text": [
      "첫 번째 16진수 실수 입력 >> f\n",
      "두 번째 16진수 실수 입력 >> e.1\n",
      "실수1: 15.0 실수2: 14.0625\n",
      "합: 29.0625\n",
      "차: 0.9375\n",
      "곱하기: 210.9375\n",
      "나누기: 1.0666666666666667\n"
     ]
    }
   ],
   "source": [
    "Fn = input(\"첫 번째 16진수 실수 입력 >> \")\n",
    "Sn = input(\"두 번째 16진수 실수 입력 >> \")\n",
    "Fn2 = float.fromhex(Fn)\n",
    "Sn2 = float.fromhex(Sn)\n",
    "print(\"실수1:\", Fn2, \"실수2:\", Sn2)\n",
    "print(\"합:\", Fn2+Sn2)\n",
    "print(\"차:\", Fn2-Sn2)\n",
    "print(\"곱하기:\", Fn2*Sn2)\n",
    "print(\"나누기:\", Fn2/Sn2)"
   ]
  },
  {
   "cell_type": "code",
   "execution_count": 21,
   "id": "1d13636d",
   "metadata": {},
   "outputs": [
    {
     "name": "stdout",
     "output_type": "stream",
     "text": [
      "네 자릿수 정수 입력 >> 5432\n",
      "2345\n"
     ]
    }
   ],
   "source": [
    "N = input(\"네 자릿수 정수 입력 >> \")\n",
    "N= int(N)\n",
    "ReverseN = (N // 1000) + (((N % 1000) // 100) * 10) + (((N % 100) // 10) * 100) + ((N % 10) * 1000)\n",
    "print(ReverseN)"
   ]
  }
 ],
 "metadata": {
  "jupytext": {
   "formats": "ipynb,py:light"
  },
  "kernelspec": {
   "display_name": "Python 3 (ipykernel)",
   "language": "python",
   "name": "python3"
  },
  "language_info": {
   "codemirror_mode": {
    "name": "ipython",
    "version": 3
   },
   "file_extension": ".py",
   "mimetype": "text/x-python",
   "name": "python",
   "nbconvert_exporter": "python",
   "pygments_lexer": "ipython3",
   "version": "3.10.2"
  }
 },
 "nbformat": 4,
 "nbformat_minor": 5
}
